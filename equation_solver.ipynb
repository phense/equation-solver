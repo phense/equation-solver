{
 "cells": [
  {
   "cell_type": "code",
   "execution_count": 1,
   "metadata": {},
   "outputs": [],
   "source": [
    "from sympy import symbols, Eq, solve, simplify, sympify, pretty, solveset, latex\n",
    "from sympy.parsing.sympy_parser import parse_expr\n",
    "from sympy.core.sympify import SympifyError\n",
    "from sympy.plotting import plot\n",
    "from IPython.display import display, Latex\n",
    "import re"
   ]
  },
  {
   "cell_type": "code",
   "execution_count": 2,
   "metadata": {},
   "outputs": [],
   "source": [
    "def detect_symbols(equation_str):\n",
    "  # Find all potential variable names using a simple regex (this might need to be refined)\n",
    "  potential_variables = set(re.findall(r'[a-zA-Z]+', equation_str))\n",
    "  # Create symbols for all potential variables\n",
    "  symbols_dict = {str(s): symbols(str(s)) for s in potential_variables}\n",
    "  return symbols_dict"
   ]
  },
  {
   "cell_type": "code",
   "execution_count": 3,
   "metadata": {},
   "outputs": [],
   "source": [
    "def solve_equation(equation_str):\n",
    "# Define symbols. This should be enhanced to automatically detect and include variables from the equation string.\n",
    "    symbols_dict = detect_symbols(equation_str)\n",
    "\n",
    "    try:\n",
    "        # Convert the string expression into a sympy equation\n",
    "        lhs, rhs = equation_str.split('=')\n",
    "        #equation = Eq(sympify(lhs), sympify(rhs))\n",
    "        equation = Eq(parse_expr(lhs, local_dict=symbols_dict), parse_expr(rhs, local_dict=symbols_dict))\n",
    "\n",
    "        # Attempt to simplify the equation\n",
    "        simplified_equation = simplify(equation)\n",
    "    \n",
    "        # Solve the equation for x\n",
    "        solution = solve(simplified_equation, dict=True)  # dict=True to solve for all symbols\n",
    "    except SympifyError as e:\n",
    "        print(e)\n",
    "        return {'error' : f\"Error converting equation: {e}\"}\n",
    "    except Exception as e:\n",
    "        print(e)\n",
    "        return {'error' : f\"An error occurred: {e}\"}\n",
    "    \n",
    "    if solution:\n",
    "        solution_presentations = [latex(sol) for sol in solution]\n",
    "        solution_presentation = ', '.join(solution_presentations)\n",
    "    else:\n",
    "        solution_presentation = 'No solution found'\n",
    "    \n",
    "    original_presentation = latex(equation)\n",
    "    simplified_presentation = latex(simplified_equation)\n",
    "    \n",
    "    return {\n",
    "        'original_equation': original_presentation,\n",
    "        'simplified_equation': simplified_presentation,\n",
    "        'solution': solution_presentation\n",
    "    }"
   ]
  },
  {
   "cell_type": "code",
   "execution_count": 4,
   "metadata": {},
   "outputs": [
    {
     "data": {
      "text/latex": [
       "Original Equation: $(4*x - 40) / 2 = (3*x**2 - 90) * 4$"
      ],
      "text/plain": [
       "<IPython.core.display.Latex object>"
      ]
     },
     "metadata": {},
     "output_type": "display_data"
    },
    {
     "data": {
      "text/latex": [
       "Dissolving brackets and simplifying (step 1): $2 x - 20 = 12 x^{2} - 360$"
      ],
      "text/plain": [
       "<IPython.core.display.Latex object>"
      ]
     },
     "metadata": {},
     "output_type": "display_data"
    },
    {
     "data": {
      "text/latex": [
       "Further simplified equation: $6 x^{2} - x = 170$"
      ],
      "text/plain": [
       "<IPython.core.display.Latex object>"
      ]
     },
     "metadata": {},
     "output_type": "display_data"
    },
    {
     "data": {
      "text/latex": [
       "Solution: $$\\left\\{ x : \\frac{1}{12} - \\frac{\\sqrt{4081}}{12}\\right\\}, \\left\\{ x : \\frac{1}{12} + \\frac{\\sqrt{4081}}{12}\\right\\}$$"
      ],
      "text/plain": [
       "<IPython.core.display.Latex object>"
      ]
     },
     "metadata": {},
     "output_type": "display_data"
    }
   ],
   "source": [
    "# Example usage\n",
    "equation_str = \"(4*x - 40) / 2 = (3*x**2 - 90) * 4\"\n",
    "results = solve_equation(equation_str)\n",
    "\n",
    "# Display the results\n",
    "if 'error' in results:\n",
    "  print(results['error'])\n",
    "else:\n",
    "  display(Latex(f\"Original Equation: ${equation_str}$\"))\n",
    "  display(Latex(f\"Dissolving brackets and simplifying (step 1): ${results['original_equation']}$\"))\n",
    "  display(Latex(f\"Further simplified equation: ${results['simplified_equation']}$\"))\n",
    "  display(Latex(f\"Solution: $${results['solution']}$$\"))"
   ]
  }
 ],
 "metadata": {
  "kernelspec": {
   "display_name": "jupyter",
   "language": "python",
   "name": "python3"
  },
  "language_info": {
   "codemirror_mode": {
    "name": "ipython",
    "version": 3
   },
   "file_extension": ".py",
   "mimetype": "text/x-python",
   "name": "python",
   "nbconvert_exporter": "python",
   "pygments_lexer": "ipython3",
   "version": "3.12.2"
  }
 },
 "nbformat": 4,
 "nbformat_minor": 2
}
